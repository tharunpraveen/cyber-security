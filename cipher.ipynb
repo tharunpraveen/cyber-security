{
  "nbformat": 4,
  "nbformat_minor": 0,
  "metadata": {
    "colab": {
      "provenance": []
    },
    "kernelspec": {
      "name": "python3",
      "display_name": "Python 3"
    },
    "language_info": {
      "name": "python"
    }
  },
  "cells": [
    {
      "cell_type": "code",
      "execution_count": 26,
      "metadata": {
        "colab": {
          "base_uri": "https://localhost:8080/"
        },
        "id": "NXarGOfqB1aT",
        "outputId": "02c0d4d7-27f7-476a-f378-fc41c5adfd16"
      },
      "outputs": [
        {
          "output_type": "stream",
          "name": "stdout",
          "text": [
            "enter the text hi rvr\n",
            "enter the key 5\n",
            "mn waw\n",
            "the key is  5\n",
            "1 lm vzv\n",
            "2 kl uyu\n",
            "3 jk txt\n",
            "4 ij sws\n",
            "5 hi rvr\n"
          ]
        }
      ],
      "source": [
        "import random\n",
        "a= input(\"enter the text \")\n",
        "\n",
        "def decryption(e):\n",
        " decrypt=[]\n",
        " for shift in range(1,25):\n",
        "\n",
        "        d = ''\n",
        "        #shift = random.randint(1,25)\n",
        "        for x in e:\n",
        "            if x.isalpha():\n",
        "                if x.isupper():\n",
        "                    d += chr((ord(x) - shift - 65) % 26 + 65)\n",
        "                else:\n",
        "                    d += chr((ord(x) - shift - 97) % 26 + 97)\n",
        "            else:\n",
        "                d += x\n",
        "        decrypt.append(d)\n",
        "        if d==a:\n",
        "            print(\"the key is \",shift)\n",
        "            break\n",
        " return decrypt\n",
        "\n",
        "\n",
        "\n",
        "def encryption(a):\n",
        " e=\"\"\n",
        " shift=int(input(\"enter the key \"))\n",
        " for x in a:\n",
        "   if x.isalpha():\n",
        "     if x.isupper():\n",
        "       e+=chr((ord(x)-65+shift)%26+65)\n",
        "     else:\n",
        "       e+=chr((ord(x)-97+shift)%26+97)\n",
        "   else:\n",
        "     e+=x\n",
        " return e\n",
        "\n",
        "\n",
        "e=encryption(a)\n",
        "print(e)\n",
        "n=decryption(e)\n",
        "\n",
        "for c,x in enumerate(n):\n",
        " print(c+1,x)\n",
        "\n"
      ]
    }
  ]
}